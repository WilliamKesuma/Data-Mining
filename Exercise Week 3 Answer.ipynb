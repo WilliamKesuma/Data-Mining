{
 "cells": [
  {
   "cell_type": "markdown",
   "metadata": {
    "id": "YVziaJGvhmN4"
   },
   "source": [
    "### **Week 3**"
   ]
  },
  {
   "cell_type": "markdown",
   "metadata": {
    "id": "LahFLAbbgcoF"
   },
   "source": [
    "**DATASET** <br>\n",
    "*   Download the **MBA dataset** from Elearn\n",
    "*   Upload the dataset to your own Github\n",
    "*   Import the dataset using URL from your Github\n",
    "\n",
    "\n",
    "<br>\n",
    "\n",
    "**METADATA** <br>\n",
    "application_id: Unique identifier for each application <br>\n",
    "gender: Applicant's gender (Male, Female)<br>\n",
    "international: International student (TRUE/FALSE)<br>\n",
    "gpa: Grade Point Average of the applicant (on 4.0 scale)<br>\n",
    "major: Undergraduate major (Business, STEM, Humanities)<br>\n",
    "race: Racial background of the applicant (e.g., White, Black, Asian, Hispanic, Other / null: international student)<br>\n",
    "gmat: GMAT score of the applicant (800 points)<br>\n",
    "work_exp: Number of years of work experience (Year)<br>\n",
    "work_industry: Industry of the applicant's previous work experience (e.g., Consulting, Finance, Technology, etc.)<br>\n",
    "admission: Admission status (Admit, Waitlist, Null: Deny)<br>"
   ]
  },
  {
   "cell_type": "code",
   "execution_count": 60,
   "metadata": {
    "id": "nDob1tVBW4U8"
   },
   "outputs": [
    {
     "data": {
      "text/html": [
       "<div>\n",
       "<style scoped>\n",
       "    .dataframe tbody tr th:only-of-type {\n",
       "        vertical-align: middle;\n",
       "    }\n",
       "\n",
       "    .dataframe tbody tr th {\n",
       "        vertical-align: top;\n",
       "    }\n",
       "\n",
       "    .dataframe thead th {\n",
       "        text-align: right;\n",
       "    }\n",
       "</style>\n",
       "<table border=\"1\" class=\"dataframe\">\n",
       "  <thead>\n",
       "    <tr style=\"text-align: right;\">\n",
       "      <th></th>\n",
       "      <th>application_id</th>\n",
       "      <th>gender</th>\n",
       "      <th>international</th>\n",
       "      <th>gpa</th>\n",
       "      <th>major</th>\n",
       "      <th>race</th>\n",
       "      <th>gmat</th>\n",
       "      <th>work_exp</th>\n",
       "      <th>work_industry</th>\n",
       "      <th>admission</th>\n",
       "    </tr>\n",
       "  </thead>\n",
       "  <tbody>\n",
       "    <tr>\n",
       "      <th>0</th>\n",
       "      <td>1</td>\n",
       "      <td>Female</td>\n",
       "      <td>False</td>\n",
       "      <td>3.30</td>\n",
       "      <td>Business</td>\n",
       "      <td>Asian</td>\n",
       "      <td>620.0</td>\n",
       "      <td>3.0</td>\n",
       "      <td>Financial Services</td>\n",
       "      <td>Admit</td>\n",
       "    </tr>\n",
       "    <tr>\n",
       "      <th>1</th>\n",
       "      <td>2</td>\n",
       "      <td>Male</td>\n",
       "      <td>False</td>\n",
       "      <td>3.28</td>\n",
       "      <td>Humanities</td>\n",
       "      <td>Black</td>\n",
       "      <td>680.0</td>\n",
       "      <td>5.0</td>\n",
       "      <td>Investment Management</td>\n",
       "      <td>NaN</td>\n",
       "    </tr>\n",
       "    <tr>\n",
       "      <th>2</th>\n",
       "      <td>3</td>\n",
       "      <td>Female</td>\n",
       "      <td>True</td>\n",
       "      <td>3.30</td>\n",
       "      <td>Business</td>\n",
       "      <td>NaN</td>\n",
       "      <td>710.0</td>\n",
       "      <td>5.0</td>\n",
       "      <td>Technology</td>\n",
       "      <td>Admit</td>\n",
       "    </tr>\n",
       "    <tr>\n",
       "      <th>3</th>\n",
       "      <td>4</td>\n",
       "      <td>Male</td>\n",
       "      <td>False</td>\n",
       "      <td>3.47</td>\n",
       "      <td>STEM</td>\n",
       "      <td>Black</td>\n",
       "      <td>690.0</td>\n",
       "      <td>6.0</td>\n",
       "      <td>Technology</td>\n",
       "      <td>NaN</td>\n",
       "    </tr>\n",
       "    <tr>\n",
       "      <th>4</th>\n",
       "      <td>5</td>\n",
       "      <td>Male</td>\n",
       "      <td>False</td>\n",
       "      <td>3.35</td>\n",
       "      <td>STEM</td>\n",
       "      <td>Hispanic</td>\n",
       "      <td>590.0</td>\n",
       "      <td>5.0</td>\n",
       "      <td>Consulting</td>\n",
       "      <td>NaN</td>\n",
       "    </tr>\n",
       "  </tbody>\n",
       "</table>\n",
       "</div>"
      ],
      "text/plain": [
       "   application_id  gender  international   gpa       major      race   gmat  \\\n",
       "0               1  Female          False  3.30    Business     Asian  620.0   \n",
       "1               2    Male          False  3.28  Humanities     Black  680.0   \n",
       "2               3  Female           True  3.30    Business       NaN  710.0   \n",
       "3               4    Male          False  3.47        STEM     Black  690.0   \n",
       "4               5    Male          False  3.35        STEM  Hispanic  590.0   \n",
       "\n",
       "   work_exp          work_industry admission  \n",
       "0       3.0     Financial Services     Admit  \n",
       "1       5.0  Investment Management       NaN  \n",
       "2       5.0             Technology     Admit  \n",
       "3       6.0             Technology       NaN  \n",
       "4       5.0             Consulting       NaN  "
      ]
     },
     "execution_count": 60,
     "metadata": {},
     "output_type": "execute_result"
    }
   ],
   "source": [
    "#Import Library\n",
    "import pandas as pd\n",
    "df = pd.read_csv('https://raw.githubusercontent.com/WilliamKesuma/Data-Mining/refs/heads/main/MBA.csv')\n",
    "df.head()"
   ]
  },
  {
   "cell_type": "markdown",
   "metadata": {
    "id": "3RE6219RodGj"
   },
   "source": [
    "1. display 5 columns from dataset"
   ]
  },
  {
   "cell_type": "code",
   "execution_count": 61,
   "metadata": {
    "colab": {
     "base_uri": "https://localhost:8080/",
     "height": 206
    },
    "executionInfo": {
     "elapsed": 1624,
     "status": "ok",
     "timestamp": 1727919618477,
     "user": {
      "displayName": "Nathalia Minoque",
      "userId": "00797020017705806857"
     },
     "user_tz": -420
    },
    "id": "VOm3sfk1fw30",
    "outputId": "210a36fb-41be-48d3-e533-6914de714fbd"
   },
   "outputs": [
    {
     "data": {
      "text/html": [
       "<div>\n",
       "<style scoped>\n",
       "    .dataframe tbody tr th:only-of-type {\n",
       "        vertical-align: middle;\n",
       "    }\n",
       "\n",
       "    .dataframe tbody tr th {\n",
       "        vertical-align: top;\n",
       "    }\n",
       "\n",
       "    .dataframe thead th {\n",
       "        text-align: right;\n",
       "    }\n",
       "</style>\n",
       "<table border=\"1\" class=\"dataframe\">\n",
       "  <thead>\n",
       "    <tr style=\"text-align: right;\">\n",
       "      <th></th>\n",
       "      <th>application_id</th>\n",
       "      <th>gender</th>\n",
       "      <th>international</th>\n",
       "      <th>gpa</th>\n",
       "      <th>major</th>\n",
       "      <th>race</th>\n",
       "      <th>gmat</th>\n",
       "      <th>work_exp</th>\n",
       "      <th>work_industry</th>\n",
       "      <th>admission</th>\n",
       "    </tr>\n",
       "  </thead>\n",
       "  <tbody>\n",
       "    <tr>\n",
       "      <th>0</th>\n",
       "      <td>1</td>\n",
       "      <td>Female</td>\n",
       "      <td>False</td>\n",
       "      <td>3.30</td>\n",
       "      <td>Business</td>\n",
       "      <td>Asian</td>\n",
       "      <td>620.0</td>\n",
       "      <td>3.0</td>\n",
       "      <td>Financial Services</td>\n",
       "      <td>Admit</td>\n",
       "    </tr>\n",
       "    <tr>\n",
       "      <th>1</th>\n",
       "      <td>2</td>\n",
       "      <td>Male</td>\n",
       "      <td>False</td>\n",
       "      <td>3.28</td>\n",
       "      <td>Humanities</td>\n",
       "      <td>Black</td>\n",
       "      <td>680.0</td>\n",
       "      <td>5.0</td>\n",
       "      <td>Investment Management</td>\n",
       "      <td>NaN</td>\n",
       "    </tr>\n",
       "    <tr>\n",
       "      <th>2</th>\n",
       "      <td>3</td>\n",
       "      <td>Female</td>\n",
       "      <td>True</td>\n",
       "      <td>3.30</td>\n",
       "      <td>Business</td>\n",
       "      <td>NaN</td>\n",
       "      <td>710.0</td>\n",
       "      <td>5.0</td>\n",
       "      <td>Technology</td>\n",
       "      <td>Admit</td>\n",
       "    </tr>\n",
       "    <tr>\n",
       "      <th>3</th>\n",
       "      <td>4</td>\n",
       "      <td>Male</td>\n",
       "      <td>False</td>\n",
       "      <td>3.47</td>\n",
       "      <td>STEM</td>\n",
       "      <td>Black</td>\n",
       "      <td>690.0</td>\n",
       "      <td>6.0</td>\n",
       "      <td>Technology</td>\n",
       "      <td>NaN</td>\n",
       "    </tr>\n",
       "    <tr>\n",
       "      <th>4</th>\n",
       "      <td>5</td>\n",
       "      <td>Male</td>\n",
       "      <td>False</td>\n",
       "      <td>3.35</td>\n",
       "      <td>STEM</td>\n",
       "      <td>Hispanic</td>\n",
       "      <td>590.0</td>\n",
       "      <td>5.0</td>\n",
       "      <td>Consulting</td>\n",
       "      <td>NaN</td>\n",
       "    </tr>\n",
       "  </tbody>\n",
       "</table>\n",
       "</div>"
      ],
      "text/plain": [
       "   application_id  gender  international   gpa       major      race   gmat  \\\n",
       "0               1  Female          False  3.30    Business     Asian  620.0   \n",
       "1               2    Male          False  3.28  Humanities     Black  680.0   \n",
       "2               3  Female           True  3.30    Business       NaN  710.0   \n",
       "3               4    Male          False  3.47        STEM     Black  690.0   \n",
       "4               5    Male          False  3.35        STEM  Hispanic  590.0   \n",
       "\n",
       "   work_exp          work_industry admission  \n",
       "0       3.0     Financial Services     Admit  \n",
       "1       5.0  Investment Management       NaN  \n",
       "2       5.0             Technology     Admit  \n",
       "3       6.0             Technology       NaN  \n",
       "4       5.0             Consulting       NaN  "
      ]
     },
     "execution_count": 61,
     "metadata": {},
     "output_type": "execute_result"
    }
   ],
   "source": [
    "#1\n",
    "df.head()"
   ]
  },
  {
   "cell_type": "markdown",
   "metadata": {
    "id": "9iimTLVSn4zw"
   },
   "source": [
    "2. display the info column and conclude what the insight is from that column"
   ]
  },
  {
   "cell_type": "code",
   "execution_count": 62,
   "metadata": {
    "colab": {
     "base_uri": "https://localhost:8080/"
    },
    "executionInfo": {
     "elapsed": 21,
     "status": "ok",
     "timestamp": 1727919618477,
     "user": {
      "displayName": "Nathalia Minoque",
      "userId": "00797020017705806857"
     },
     "user_tz": -420
    },
    "id": "vOLEWIdgniBP",
    "outputId": "99f973f9-7809-4512-c5c9-fdbbd07d45b7"
   },
   "outputs": [
    {
     "name": "stdout",
     "output_type": "stream",
     "text": [
      "<class 'pandas.core.frame.DataFrame'>\n",
      "RangeIndex: 6194 entries, 0 to 6193\n",
      "Data columns (total 10 columns):\n",
      " #   Column          Non-Null Count  Dtype  \n",
      "---  ------          --------------  -----  \n",
      " 0   application_id  6194 non-null   int64  \n",
      " 1   gender          6194 non-null   object \n",
      " 2   international   6194 non-null   bool   \n",
      " 3   gpa             6194 non-null   float64\n",
      " 4   major           6194 non-null   object \n",
      " 5   race            4352 non-null   object \n",
      " 6   gmat            6194 non-null   float64\n",
      " 7   work_exp        6194 non-null   float64\n",
      " 8   work_industry   6194 non-null   object \n",
      " 9   admission       1000 non-null   object \n",
      "dtypes: bool(1), float64(3), int64(1), object(5)\n",
      "memory usage: 441.7+ KB\n"
     ]
    }
   ],
   "source": [
    "#2\n",
    "df.info()\n",
    "\n",
    "#conclusion\n",
    "#The dataset contains information about applications, \n",
    "#with some missing data in the race and admission columns. \n",
    "#Most fields are complete, but you'll need to address the missing values during analysis."
   ]
  },
  {
   "cell_type": "markdown",
   "metadata": {
    "id": "GD6DUKj_pvDH"
   },
   "source": [
    "3. display the number of each unique value in the race and admission columns (including NaN)"
   ]
  },
  {
   "cell_type": "code",
   "execution_count": 63,
   "metadata": {
    "colab": {
     "base_uri": "https://localhost:8080/"
    },
    "executionInfo": {
     "elapsed": 20,
     "status": "ok",
     "timestamp": 1727919618477,
     "user": {
      "displayName": "Nathalia Minoque",
      "userId": "00797020017705806857"
     },
     "user_tz": -420
    },
    "id": "iNlK4zraWqlP",
    "outputId": "d603e66f-915d-4157-f46c-96e9e5f0837a"
   },
   "outputs": [
    {
     "data": {
      "text/plain": [
       "NaN         5194\n",
       "Admit        900\n",
       "Waitlist     100\n",
       "Name: admission, dtype: int64"
      ]
     },
     "execution_count": 63,
     "metadata": {},
     "output_type": "execute_result"
    }
   ],
   "source": [
    "#3a\n",
    "admission_counts = df['admission'].value_counts(dropna=False)\n",
    "\n",
    "admission_counts"
   ]
  },
  {
   "cell_type": "code",
   "execution_count": 64,
   "metadata": {
    "colab": {
     "base_uri": "https://localhost:8080/"
    },
    "executionInfo": {
     "elapsed": 18,
     "status": "ok",
     "timestamp": 1727919618477,
     "user": {
      "displayName": "Nathalia Minoque",
      "userId": "00797020017705806857"
     },
     "user_tz": -420
    },
    "id": "fd8F7KUoqaK5",
    "outputId": "08471cce-a12f-4f6e-be66-cef4091c1726"
   },
   "outputs": [
    {
     "data": {
      "text/plain": [
       "NaN         1842\n",
       "White       1456\n",
       "Asian       1147\n",
       "Black        916\n",
       "Hispanic     596\n",
       "Other        237\n",
       "Name: race, dtype: int64"
      ]
     },
     "execution_count": 64,
     "metadata": {},
     "output_type": "execute_result"
    }
   ],
   "source": [
    "#3b\n",
    "race_counts = df['race'].value_counts(dropna=False)\n",
    "\n",
    "race_counts"
   ]
  },
  {
   "cell_type": "markdown",
   "metadata": {
    "id": "eeiF9rqTpRr3"
   },
   "source": [
    "4. fill NaN values in admission column to \"deny\" and null values in in race column to \"other\""
   ]
  },
  {
   "cell_type": "code",
   "execution_count": 65,
   "metadata": {
    "colab": {
     "base_uri": "https://localhost:8080/"
    },
    "executionInfo": {
     "elapsed": 18,
     "status": "ok",
     "timestamp": 1727919618478,
     "user": {
      "displayName": "Nathalia Minoque",
      "userId": "00797020017705806857"
     },
     "user_tz": -420
    },
    "id": "UmJKcigwqy1T",
    "outputId": "33fc76ad-5429-472c-e49d-8bf2940b5a6b"
   },
   "outputs": [
    {
     "data": {
      "text/html": [
       "<div>\n",
       "<style scoped>\n",
       "    .dataframe tbody tr th:only-of-type {\n",
       "        vertical-align: middle;\n",
       "    }\n",
       "\n",
       "    .dataframe tbody tr th {\n",
       "        vertical-align: top;\n",
       "    }\n",
       "\n",
       "    .dataframe thead th {\n",
       "        text-align: right;\n",
       "    }\n",
       "</style>\n",
       "<table border=\"1\" class=\"dataframe\">\n",
       "  <thead>\n",
       "    <tr style=\"text-align: right;\">\n",
       "      <th></th>\n",
       "      <th>race</th>\n",
       "      <th>admission</th>\n",
       "    </tr>\n",
       "  </thead>\n",
       "  <tbody>\n",
       "    <tr>\n",
       "      <th>0</th>\n",
       "      <td>Asian</td>\n",
       "      <td>Admit</td>\n",
       "    </tr>\n",
       "    <tr>\n",
       "      <th>1</th>\n",
       "      <td>Black</td>\n",
       "      <td>deny</td>\n",
       "    </tr>\n",
       "    <tr>\n",
       "      <th>2</th>\n",
       "      <td>other</td>\n",
       "      <td>Admit</td>\n",
       "    </tr>\n",
       "    <tr>\n",
       "      <th>3</th>\n",
       "      <td>Black</td>\n",
       "      <td>deny</td>\n",
       "    </tr>\n",
       "    <tr>\n",
       "      <th>4</th>\n",
       "      <td>Hispanic</td>\n",
       "      <td>deny</td>\n",
       "    </tr>\n",
       "    <tr>\n",
       "      <th>...</th>\n",
       "      <td>...</td>\n",
       "      <td>...</td>\n",
       "    </tr>\n",
       "    <tr>\n",
       "      <th>6189</th>\n",
       "      <td>White</td>\n",
       "      <td>deny</td>\n",
       "    </tr>\n",
       "    <tr>\n",
       "      <th>6190</th>\n",
       "      <td>Black</td>\n",
       "      <td>deny</td>\n",
       "    </tr>\n",
       "    <tr>\n",
       "      <th>6191</th>\n",
       "      <td>other</td>\n",
       "      <td>Admit</td>\n",
       "    </tr>\n",
       "    <tr>\n",
       "      <th>6192</th>\n",
       "      <td>other</td>\n",
       "      <td>deny</td>\n",
       "    </tr>\n",
       "    <tr>\n",
       "      <th>6193</th>\n",
       "      <td>Hispanic</td>\n",
       "      <td>deny</td>\n",
       "    </tr>\n",
       "  </tbody>\n",
       "</table>\n",
       "<p>6194 rows × 2 columns</p>\n",
       "</div>"
      ],
      "text/plain": [
       "          race admission\n",
       "0        Asian     Admit\n",
       "1        Black      deny\n",
       "2        other     Admit\n",
       "3        Black      deny\n",
       "4     Hispanic      deny\n",
       "...        ...       ...\n",
       "6189     White      deny\n",
       "6190     Black      deny\n",
       "6191     other     Admit\n",
       "6192     other      deny\n",
       "6193  Hispanic      deny\n",
       "\n",
       "[6194 rows x 2 columns]"
      ]
     },
     "execution_count": 65,
     "metadata": {},
     "output_type": "execute_result"
    }
   ],
   "source": [
    "#4\n",
    "df['admission'] = df['admission'].fillna('deny')\n",
    "df['race'] = df['race'].fillna('other')\n",
    "\n",
    "df[['race', 'admission']]"
   ]
  },
  {
   "cell_type": "markdown",
   "metadata": {
    "id": "MCTM-Gk5rmRY"
   },
   "source": [
    "5. recheck missing value"
   ]
  },
  {
   "cell_type": "code",
   "execution_count": 66,
   "metadata": {
    "colab": {
     "base_uri": "https://localhost:8080/",
     "height": 398
    },
    "executionInfo": {
     "elapsed": 17,
     "status": "ok",
     "timestamp": 1727919618478,
     "user": {
      "displayName": "Nathalia Minoque",
      "userId": "00797020017705806857"
     },
     "user_tz": -420
    },
    "id": "5CoGVkzpr4Ph",
    "outputId": "4553c3d8-d134-4a5b-9489-1e92ef8fd9d4"
   },
   "outputs": [
    {
     "name": "stdout",
     "output_type": "stream",
     "text": [
      "           Column  Missing Values Filled Value\n",
      "0  application_id               0          N/A\n",
      "1          gender               0          N/A\n",
      "2   international               0          N/A\n",
      "3             gpa               0          N/A\n",
      "4           major               0          N/A\n",
      "5            race               0          N/A\n",
      "6            gmat               0          N/A\n",
      "7        work_exp               0          N/A\n",
      "8   work_industry               0          N/A\n",
      "9       admission               0          N/A\n"
     ]
    }
   ],
   "source": [
    "#5\n",
    "missing_counts = {\n",
    "    'Column': df.columns,\n",
    "    'Missing Values': [df[col].isnull().sum() for col in df.columns],\n",
    "    'Filled Value': ['N/A' for _ in df.columns]  # You can adjust this to show the specific fill values if applicable\n",
    "}\n",
    "\n",
    "missing_df = pd.DataFrame(missing_counts)\n",
    "print(missing_df)"
   ]
  },
  {
   "cell_type": "markdown",
   "metadata": {
    "id": "eRQ5aMm7t_zL"
   },
   "source": [
    "6. drop application_id column"
   ]
  },
  {
   "cell_type": "code",
   "execution_count": 67,
   "metadata": {
    "id": "ZZqUEkseuFgi"
   },
   "outputs": [
    {
     "data": {
      "text/html": [
       "<div>\n",
       "<style scoped>\n",
       "    .dataframe tbody tr th:only-of-type {\n",
       "        vertical-align: middle;\n",
       "    }\n",
       "\n",
       "    .dataframe tbody tr th {\n",
       "        vertical-align: top;\n",
       "    }\n",
       "\n",
       "    .dataframe thead th {\n",
       "        text-align: right;\n",
       "    }\n",
       "</style>\n",
       "<table border=\"1\" class=\"dataframe\">\n",
       "  <thead>\n",
       "    <tr style=\"text-align: right;\">\n",
       "      <th></th>\n",
       "      <th>gender</th>\n",
       "      <th>international</th>\n",
       "      <th>gpa</th>\n",
       "      <th>major</th>\n",
       "      <th>race</th>\n",
       "      <th>gmat</th>\n",
       "      <th>work_exp</th>\n",
       "      <th>work_industry</th>\n",
       "      <th>admission</th>\n",
       "    </tr>\n",
       "  </thead>\n",
       "  <tbody>\n",
       "    <tr>\n",
       "      <th>0</th>\n",
       "      <td>Female</td>\n",
       "      <td>False</td>\n",
       "      <td>3.30</td>\n",
       "      <td>Business</td>\n",
       "      <td>Asian</td>\n",
       "      <td>620.0</td>\n",
       "      <td>3.0</td>\n",
       "      <td>Financial Services</td>\n",
       "      <td>Admit</td>\n",
       "    </tr>\n",
       "    <tr>\n",
       "      <th>1</th>\n",
       "      <td>Male</td>\n",
       "      <td>False</td>\n",
       "      <td>3.28</td>\n",
       "      <td>Humanities</td>\n",
       "      <td>Black</td>\n",
       "      <td>680.0</td>\n",
       "      <td>5.0</td>\n",
       "      <td>Investment Management</td>\n",
       "      <td>deny</td>\n",
       "    </tr>\n",
       "    <tr>\n",
       "      <th>2</th>\n",
       "      <td>Female</td>\n",
       "      <td>True</td>\n",
       "      <td>3.30</td>\n",
       "      <td>Business</td>\n",
       "      <td>other</td>\n",
       "      <td>710.0</td>\n",
       "      <td>5.0</td>\n",
       "      <td>Technology</td>\n",
       "      <td>Admit</td>\n",
       "    </tr>\n",
       "    <tr>\n",
       "      <th>3</th>\n",
       "      <td>Male</td>\n",
       "      <td>False</td>\n",
       "      <td>3.47</td>\n",
       "      <td>STEM</td>\n",
       "      <td>Black</td>\n",
       "      <td>690.0</td>\n",
       "      <td>6.0</td>\n",
       "      <td>Technology</td>\n",
       "      <td>deny</td>\n",
       "    </tr>\n",
       "    <tr>\n",
       "      <th>4</th>\n",
       "      <td>Male</td>\n",
       "      <td>False</td>\n",
       "      <td>3.35</td>\n",
       "      <td>STEM</td>\n",
       "      <td>Hispanic</td>\n",
       "      <td>590.0</td>\n",
       "      <td>5.0</td>\n",
       "      <td>Consulting</td>\n",
       "      <td>deny</td>\n",
       "    </tr>\n",
       "  </tbody>\n",
       "</table>\n",
       "</div>"
      ],
      "text/plain": [
       "   gender  international   gpa       major      race   gmat  work_exp  \\\n",
       "0  Female          False  3.30    Business     Asian  620.0       3.0   \n",
       "1    Male          False  3.28  Humanities     Black  680.0       5.0   \n",
       "2  Female           True  3.30    Business     other  710.0       5.0   \n",
       "3    Male          False  3.47        STEM     Black  690.0       6.0   \n",
       "4    Male          False  3.35        STEM  Hispanic  590.0       5.0   \n",
       "\n",
       "           work_industry admission  \n",
       "0     Financial Services     Admit  \n",
       "1  Investment Management      deny  \n",
       "2             Technology     Admit  \n",
       "3             Technology      deny  \n",
       "4             Consulting      deny  "
      ]
     },
     "execution_count": 67,
     "metadata": {},
     "output_type": "execute_result"
    }
   ],
   "source": [
    "# 6\n",
    "df = df.drop(columns=['application_id'])\n",
    "df.head()"
   ]
  },
  {
   "cell_type": "markdown",
   "metadata": {
    "id": "QlrkW97KrLDC"
   },
   "source": [
    "7. show describe column and conclude what the insight is from that column"
   ]
  },
  {
   "cell_type": "code",
   "execution_count": 68,
   "metadata": {
    "colab": {
     "base_uri": "https://localhost:8080/",
     "height": 300
    },
    "executionInfo": {
     "elapsed": 16,
     "status": "ok",
     "timestamp": 1727919618478,
     "user": {
      "displayName": "Nathalia Minoque",
      "userId": "00797020017705806857"
     },
     "user_tz": -420
    },
    "id": "cVv65TTyq8xY",
    "outputId": "f5c08a70-bfe4-4d4e-a159-e9486506963c"
   },
   "outputs": [
    {
     "name": "stdout",
     "output_type": "stream",
     "text": [
      "               gpa         gmat     work_exp\n",
      "count  6194.000000  6194.000000  6194.000000\n",
      "mean      3.250714   651.092993     5.016952\n",
      "std       0.151541    49.294883     1.032432\n",
      "min       2.650000   570.000000     1.000000\n",
      "25%       3.150000   610.000000     4.000000\n",
      "50%       3.250000   650.000000     5.000000\n",
      "75%       3.350000   680.000000     6.000000\n",
      "max       3.770000   780.000000     9.000000\n"
     ]
    }
   ],
   "source": [
    "#7\n",
    "description = df[['gpa', 'gmat', 'work_exp']].describe()\n",
    "\n",
    "# Display the descriptive statistics\n",
    "print(description)\n",
    "\n",
    "#conclusion\n",
    "# Most people in this group have strong GPAs, competitive GMAT scores, and moderate work experience (4 to 6 years)."
   ]
  },
  {
   "cell_type": "markdown",
   "metadata": {
    "id": "0I7TZUf7vTrw"
   },
   "source": [
    "8. make a visualization to analyze admission status based on major and explain the conclusions"
   ]
  },
  {
   "cell_type": "code",
   "execution_count": 69,
   "metadata": {
    "colab": {
     "base_uri": "https://localhost:8080/",
     "height": 564
    },
    "executionInfo": {
     "elapsed": 15,
     "status": "ok",
     "timestamp": 1727919618478,
     "user": {
      "displayName": "Nathalia Minoque",
      "userId": "00797020017705806857"
     },
     "user_tz": -420
    },
    "id": "_-CN4eWjvUWa",
    "outputId": "9372b9e2-a482-41ac-d4e1-95bf83337878"
   },
   "outputs": [
    {
     "data": {
      "image/png": "[encoded data removed]",
      "text/plain": [
       "<Figure size 1000x700 with 1 Axes>"
      ]
     },
     "metadata": {},
     "output_type": "display_data"
    }
   ],
   "source": [
    "#8\n",
    "\n",
    "import matplotlib.pyplot as plt\n",
    "\n",
    "# Group data by 'major' and 'admission', then count occurrences\n",
    "grouped_data = df.groupby(['major', 'admission']).size().unstack(fill_value=0)\n",
    "\n",
    "# Create a horizontal bar chart with separate bars (not stacked)\n",
    "grouped_data.plot(kind='barh', stacked=False, figsize=(10, 7))\n",
    "\n",
    "# Customize the chart\n",
    "plt.xlabel('Number of Applicants')\n",
    "plt.title('Admission Status by Major')\n",
    "plt.ylabel('Major')\n",
    "plt.legend(title='Admission Status', loc='upper right')\n",
    "\n",
    "# Show the chart\n",
    "plt.tight_layout()\n",
    "plt.show()"
   ]
  },
  {
   "cell_type": "markdown",
   "metadata": {
    "id": "QjGWg4QcxIW3"
   },
   "source": [
    "9. make a visualization to analyze the admissions in each major based on gender and explain the conclusions"
   ]
  },
  {
   "cell_type": "code",
   "execution_count": 70,
   "metadata": {
    "colab": {
     "base_uri": "https://localhost:8080/",
     "height": 564
    },
    "executionInfo": {
     "elapsed": 15,
     "status": "ok",
     "timestamp": 1727919618478,
     "user": {
      "displayName": "Nathalia Minoque",
      "userId": "00797020017705806857"
     },
     "user_tz": -420
    },
    "id": "bak92XlCxTIu",
    "outputId": "651a8049-32e4-4f81-f3a9-07e40f29e17d"
   },
   "outputs": [
    {
     "data": {
      "image/png": "[encoded data removed]",
      "text/plain": [
       "<Figure size 1000x700 with 1 Axes>"
      ]
     },
     "metadata": {},
     "output_type": "display_data"
    }
   ],
   "source": [
    "#9\n",
    "\n",
    "# Filter the DataFrame to include only admitted applicants\n",
    "admitted_df = df[df['admission'] == \"Admit\"]\n",
    "\n",
    "\n",
    "# Group data by major and gender, then count the occurrences\n",
    "grouped_data = admitted_df.groupby(['major', 'gender']).size().unstack(fill_value=0)\n",
    "\n",
    "# Create a horizontal bar chart\n",
    "\n",
    "# Customize the chart\n",
    "\n",
    "# Show the chart\n",
    "\n",
    "grouped_data.plot(kind='barh', stacked=False, figsize=(10, 7))\n",
    "\n",
    "# Customize the chart\n",
    "plt.xlabel('Number of Applicants')\n",
    "plt.title('Admission Status by Major')\n",
    "plt.ylabel('Major')\n",
    "plt.legend(title='Admission Status', loc='upper right')\n",
    "\n",
    "# Show the chart\n",
    "plt.tight_layout()\n",
    "plt.show()"
   ]
  },
  {
   "cell_type": "markdown",
   "metadata": {
    "id": "M0xASvwUypWs"
   },
   "source": [
    "10. create your own insightful visualization and explain it in at least 2 sentences"
   ]
  },
  {
   "cell_type": "code",
   "execution_count": 71,
   "metadata": {
    "id": "eOKpO2K8yret",
    "scrolled": false
   },
   "outputs": [
    {
     "data": {
      "image/png": "[encoded data removed]",
      "text/plain": [
       "<Figure size 1000x700 with 1 Axes>"
      ]
     },
     "metadata": {},
     "output_type": "display_data"
    }
   ],
   "source": [
    "#10\n",
    "\n",
    "# Group by 'major' and calculate the average GPA of admitted applicants\n",
    "avg_gpa_per_major = df[df['admission'] == 'Admit'].groupby('major')['gpa'].mean().sort_values()\n",
    "\n",
    "# Create a horizontal bar chart of average GPA per major for admitted applicants\n",
    "plt.figure(figsize=(10, 7))\n",
    "plt.barh(avg_gpa_per_major.index, avg_gpa_per_major.values, color='lightblue')\n",
    "\n",
    "# Add annotations (values on bars)\n",
    "for i, v in enumerate(avg_gpa_per_major):\n",
    "    plt.text(v + 0.01, i, f'{v:.2f}', va='center')\n",
    "\n",
    "# Add labels and title\n",
    "plt.title('Average GPA by Major (Admitted Applicants)')\n",
    "plt.xlabel('Average GPA')\n",
    "plt.ylabel('Major')\n",
    "\n",
    "# Show the chart\n",
    "plt.show()"
   ]
  },
  {
   "cell_type": "code",
   "execution_count": 35,
   "metadata": {},
   "outputs": [],
   "source": [
    "#This chart shows the average GPA of admitted applicants by major. \n",
    "#It helps us understand which majors tend to admit applicants with higher academic performance, indicated by their GPA. \n",
    "#The visualization also reveals potential differences in GPA \n",
    "#requirements across various fields, allowing us to see which majors might prioritize academic excellence more than others.\n",
    "\n",
    "#Business and humanities students have an average GPA of 3.36\n",
    "#While STEM students have an average GPA of 3.35 which is not that far from both business and humanities"
   ]
  },
  {
   "cell_type": "markdown",
   "metadata": {
    "id": "R-gOta0b1Aoe"
   },
   "source": [
    "11. create your own insightful visualization and explain it in at least 2 sentences"
   ]
  },
  {
   "cell_type": "code",
   "execution_count": 72,
   "metadata": {
    "colab": {
     "base_uri": "https://localhost:8080/"
    },
    "executionInfo": {
     "elapsed": 14,
     "status": "ok",
     "timestamp": 1727919618478,
     "user": {
      "displayName": "Nathalia Minoque",
      "userId": "00797020017705806857"
     },
     "user_tz": -420
    },
    "id": "-D0e7VYk1CD0",
    "outputId": "cf54111c-99d1-4a61-b2c6-d3bdfe0217c7"
   },
   "outputs": [
    {
     "data": {
      "image/png": "[encoded data removed]",
      "text/plain": [
       "<Figure size 1200x600 with 1 Axes>"
      ]
     },
     "metadata": {},
     "output_type": "display_data"
    }
   ],
   "source": [
    "#11\n",
    "import seaborn as sns\n",
    "# Create a box plot to visualize the GPA distribution by major\n",
    "plt.figure(figsize=(12, 6))\n",
    "sns.boxplot(x='gpa', y='major', data=df, palette='Set2')\n",
    "\n",
    "# Add title and labels\n",
    "plt.title('GPA Distribution by Major')\n",
    "plt.xlabel('GPA')\n",
    "plt.ylabel('Major')\n",
    "\n",
    "# Show the plot\n",
    "plt.tight_layout()\n",
    "plt.show()"
   ]
  },
  {
   "cell_type": "code",
   "execution_count": null,
   "metadata": {},
   "outputs": [],
   "source": [
    "# The box plot illustrates the GPA distribution by major, \n",
    "#showing the median GPA and variability within each major. \n",
    "#It highlights differences in academic performance, allowing for quick identification of which majors tend to have higher or lower GPAs and the presence of any outliers."
   ]
  },
  {
   "cell_type": "markdown",
   "metadata": {
    "id": "Rg_Yoa8s1EIk"
   },
   "source": [
    "12. encode categorical columns and display the results"
   ]
  },
  {
   "cell_type": "code",
   "execution_count": 73,
   "metadata": {
    "colab": {
     "base_uri": "https://localhost:8080/",
     "height": 206
    },
    "executionInfo": {
     "elapsed": 12,
     "status": "ok",
     "timestamp": 1727919618478,
     "user": {
      "displayName": "Nathalia Minoque",
      "userId": "00797020017705806857"
     },
     "user_tz": -420
    },
    "id": "GU_XsKq4rezd",
    "outputId": "ef7e2c55-765d-421e-c67b-540e20470277"
   },
   "outputs": [
    {
     "name": "stdout",
     "output_type": "stream",
     "text": [
      "   gender  international   gpa  major  race   gmat  work_exp  work_industry  \\\n",
      "0       0              0  3.30      0     0  620.0       3.0              3   \n",
      "1       1              0  3.28      1     1  680.0       5.0              6   \n",
      "2       0              1  3.30      0     5  710.0       5.0             13   \n",
      "3       1              0  3.47      2     1  690.0       6.0             13   \n",
      "4       1              0  3.35      2     2  590.0       5.0              1   \n",
      "\n",
      "  admission  \n",
      "0     Admit  \n",
      "1      deny  \n",
      "2     Admit  \n",
      "3      deny  \n",
      "4      deny  \n"
     ]
    }
   ],
   "source": [
    "#12\n",
    "\n",
    "# Encode categorical columns (except the admission column)\n",
    "# Identify categorical columns (excluding 'admission')\n",
    "categorical_cols = df.select_dtypes(include=['object', 'bool']).columns.tolist()\n",
    "categorical_cols.remove('admission')  # Exclude 'admission' column\n",
    "\n",
    "# One-Hot Encoding for categorical columns\n",
    "df_encoded = pd.get_dummies(df, columns=categorical_cols, drop_first=True)\n",
    "\n",
    "# Display the first few rows of the encoded DataFrame\n",
    "\n",
    "from sklearn.preprocessing import LabelEncoder\n",
    "\n",
    "# Create a LabelEncoder instance\n",
    "le = LabelEncoder()\n",
    "\n",
    "# Apply Label Encoding to each categorical column except 'admission'\n",
    "for col in categorical_cols:\n",
    "    df[col] = le.fit_transform(df[col])\n",
    "\n",
    "# Display the first few rows of the encoded DataFrame\n",
    "print(df.head())"
   ]
  },
  {
   "cell_type": "code",
   "execution_count": 74,
   "metadata": {
    "colab": {
     "base_uri": "https://localhost:8080/",
     "height": 206
    },
    "executionInfo": {
     "elapsed": 11,
     "status": "ok",
     "timestamp": 1727919618478,
     "user": {
      "displayName": "Nathalia Minoque",
      "userId": "00797020017705806857"
     },
     "user_tz": -420
    },
    "id": "v8hiB_GH_j4F",
    "outputId": "7b8241fa-86fd-4a27-cb62-e7709fde23c2"
   },
   "outputs": [
    {
     "name": "stdout",
     "output_type": "stream",
     "text": [
      "   gender  international   gpa  major  race   gmat  work_exp  work_industry  \\\n",
      "0       0              0  3.30      0     0  620.0       3.0              3   \n",
      "1       1              0  3.28      1     1  680.0       5.0              6   \n",
      "2       0              1  3.30      0     5  710.0       5.0             13   \n",
      "3       1              0  3.47      2     1  690.0       6.0             13   \n",
      "4       1              0  3.35      2     2  590.0       5.0              1   \n",
      "\n",
      "   admission  \n",
      "0          0  \n",
      "1          2  \n",
      "2          0  \n",
      "3          2  \n",
      "4          2  \n"
     ]
    }
   ],
   "source": [
    "# Encode the admission column\n",
    "# Create a LabelEncoder instance\n",
    "ad_le = LabelEncoder()\n",
    "\n",
    "# Encode the 'admission' column\n",
    "df['admission'] = ad_le.fit_transform(df['admission'])\n",
    "\n",
    "# Display the first few rows of the encoded DataFrame\n",
    "print(df.head())"
   ]
  },
  {
   "cell_type": "markdown",
   "metadata": {
    "id": "8FOFJ4TP0u8_"
   },
   "source": [
    "13. create a heatmap to see the correlation and explain the conclusion"
   ]
  },
  {
   "cell_type": "code",
   "execution_count": 41,
   "metadata": {
    "colab": {
     "base_uri": "https://localhost:8080/",
     "height": 782
    },
    "executionInfo": {
     "elapsed": 1740,
     "status": "ok",
     "timestamp": 1727919620208,
     "user": {
      "displayName": "Nathalia Minoque",
      "userId": "00797020017705806857"
     },
     "user_tz": -420
    },
    "id": "Qxd4yguby4gO",
    "outputId": "e38a6fd4-9d6c-4909-fa74-169c13e618ff"
   },
   "outputs": [
    {
     "data": {
      "image/png": "[encoded data removed]",
      "text/plain": [
       "<Figure size 1200x800 with 2 Axes>"
      ]
     },
     "metadata": {},
     "output_type": "display_data"
    }
   ],
   "source": [
    "#13\n",
    "import seaborn as sns\n",
    "\n",
    "# Calculate the correlation matrix\n",
    "correlation_matrix = df.corr()\n",
    "\n",
    "# Create a heatmap\n",
    "plt.figure(figsize=(12, 8))\n",
    "sns.heatmap(correlation_matrix, annot=True, fmt=\".2f\", cmap='coolwarm', square=True, cbar_kws={\"shrink\": .8})\n",
    "\n",
    "# Add title\n",
    "plt.title('Correlation Matrix Heatmap')\n",
    "plt.show()"
   ]
  },
  {
   "cell_type": "markdown",
   "metadata": {
    "id": "7OrAIInt2LEn"
   },
   "source": [
    "**Challenge! Get Extra 10 Points**<br>\n",
    "\n",
    "get extra 10 points if you can help Lisa predict whether she will be accepted or not.\n",
    "Lisa is a local student, Lisa's gpa is the average of all applicants, during her undergraduate Lisa studied entrepreneurship, Lisa has an Asian race, gmat score 580, has worked from 2018 to 2020 as a finance."
   ]
  },
  {
   "cell_type": "code",
   "execution_count": null,
   "metadata": {
    "colab": {
     "base_uri": "https://localhost:8080/"
    },
    "executionInfo": {
     "elapsed": 7,
     "status": "ok",
     "timestamp": 1727919620208,
     "user": {
      "displayName": "Nathalia Minoque",
      "userId": "00797020017705806857"
     },
     "user_tz": -420
    },
    "id": "4osNdCzV2JnC",
    "outputId": "6ea7d6dd-65e7-4265-8cfc-7cdb42de7710"
   },
   "outputs": [
    {
     "name": "stdout",
     "output_type": "stream",
     "text": [
      "Accuracy: 0.7828894269572235\n"
     ]
    }
   ],
   "source": [
    "# prompt: make a model classification\n",
    "\n",
    "# Separate features and target variable\n",
    "\n",
    "# Split the data into training and testing sets\n",
    "\n",
    "# Create a Decision Tree Classifier\n",
    "\n",
    "# Train the model\n",
    "\n",
    "# Make predictions on the test set\n",
    "\n",
    "# Evaluate the model\n"
   ]
  },
  {
   "cell_type": "code",
   "execution_count": null,
   "metadata": {
    "colab": {
     "base_uri": "https://localhost:8080/"
    },
    "executionInfo": {
     "elapsed": 392,
     "status": "ok",
     "timestamp": 1727919830277,
     "user": {
      "displayName": "Nathalia Minoque",
      "userId": "00797020017705806857"
     },
     "user_tz": -420
    },
    "id": "O9yq2SfB1OD3",
    "outputId": "7b15117d-ebc8-4c55-ac50-34e320c4fab7"
   },
   "outputs": [
    {
     "name": "stdout",
     "output_type": "stream",
     "text": [
      "Prediction for Lisa's admission: Finance\n"
     ]
    }
   ],
   "source": [
    "# Get the average GPA\n",
    "\n",
    "# Create Lisa's data as a dictionary\n",
    "\n",
    "# Create a DataFrame with Lisa's data\n",
    "\n",
    "# Encode categorical features for Lisa's data\n",
    "\n",
    "# Make a prediction using the trained model\n",
    "\n",
    "# Decode the prediction back to the original label\n"
   ]
  },
  {
   "cell_type": "markdown",
   "metadata": {
    "id": "8_rr0lLu4ti5"
   },
   "source": []
  }
 ],
 "metadata": {
  "colab": {
   "provenance": []
  },
  "kernelspec": {
   "display_name": "Python 3 (ipykernel)",
   "language": "python",
   "name": "python3"
  },
  "language_info": {
   "codemirror_mode": {
    "name": "ipython",
    "version": 3
   },
   "file_extension": ".py",
   "mimetype": "text/x-python",
   "name": "python",
   "nbconvert_exporter": "python",
   "pygments_lexer": "ipython3",
   "version": "3.11.4"
  }
 },
 "nbformat": 4,
 "nbformat_minor": 1
}
